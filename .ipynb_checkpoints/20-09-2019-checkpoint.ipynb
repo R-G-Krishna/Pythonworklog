{
 "cells": [
  {
   "cell_type": "markdown",
   "metadata": {},
   "source": [
    "## Files"
   ]
  },
  {
   "cell_type": "code",
   "execution_count": null,
   "metadata": {},
   "outputs": [],
   "source": [
    "filepath=\"./files/filescount.txt\"\n",
    "with open(filepath,'w')as f:\n",
    "    f.write(\"It is pertinent to mention here that it is not easy for all engineers to remember all basic concepts of mechanical engineering because over time, our memory fades away and we can only remember those things which are continuously in use in our daily routine life/ job activities.\\n\"\n",
    "    \"Here on this mechanical engineering website, I have compiled all the basic concepts of courses taught in mechanical engineering degree.\\n\"\n",
    "    \"Some important subjects have already been added and more mechanical engineering courses will be added soon.\\n\")\n",
    "with open(filepath,'r') as j:\n",
    "    p=j.readlines()\n",
    "    print(p)"
   ]
  },
  {
   "cell_type": "code",
   "execution_count": null,
   "metadata": {},
   "outputs": [],
   "source": [
    "N=input(\"enter num:\")\n",
    "d={0:6,1:2,2:5,3:5,4:4,5:5,6:6,7:3,8:7,9:6}\n",
    "c=0\n",
    "for j in N:\n",
    "    for i in range(0,10):\n",
    "        if int(j)==i:\n",
    "            c=c+d[i]\n",
    "print(\"total:\",c)\n",
    "if c%2==0:\n",
    "    for k in range(0,c):\n",
    "        print(\"1\",end='')\n",
    "else:\n",
    "    print(\"7\",end='')\n",
    "    for l in range(1,c):\n",
    "        print(\"1\",end='')"
   ]
  },
  {
   "cell_type": "code",
   "execution_count": 45,
   "metadata": {},
   "outputs": [
    {
     "name": "stdout",
     "output_type": "stream",
     "text": [
      "enter num:456\n",
      "total: 15\n",
      "7111111"
     ]
    }
   ],
   "source": [
    "N=input(\"enter num:\")\n",
    "d={0:6,1:2,2:5,3:5,4:4,5:5,6:6,7:3,8:7,9:6}\n",
    "c=0\n",
    "for j in N:\n",
    "    for i in range(0,10):\n",
    "        if int(j)==i:\n",
    "            c=c+d[i]\n",
    "print(\"total:\",c)\n",
    "if c%2==0:\n",
    "    for k in range(0,(c//2)):\n",
    "        print(\"1\",end='')\n",
    "else:\n",
    "    print(\"7\",end='')\n",
    "    for l in range(1,(c//2)):\n",
    "        print(\"1\",end='')"
   ]
  },
  {
   "cell_type": "code",
   "execution_count": 41,
   "metadata": {},
   "outputs": [
    {
     "name": "stdout",
     "output_type": "stream",
     "text": [
      "enter ISBN:111111111\n",
      "ISBN Must contain 10 digits\n"
     ]
    }
   ],
   "source": [
    "N=(input(\"enter ISBN:\"))\n",
    "k=1\n",
    "c=0\n",
    "p=0\n",
    "for j in N:\n",
    "    p=p+1   \n",
    "if p==10:\n",
    "    for i in N:\n",
    "        c=c+(k*int(i))\n",
    "        k+=1\n",
    "    if c%11==0:\n",
    "            print(\"Legal ISBN\")\n",
    "    else:\n",
    "            print(\"Illegal ISBN\")\n",
    "else:\n",
    "    print(\"ISBN Must contain 10 digits\")\n",
    "    \n",
    "\n",
    "    "
   ]
  },
  {
   "cell_type": "code",
   "execution_count": null,
   "metadata": {},
   "outputs": [],
   "source": []
  }
 ],
 "metadata": {
  "kernelspec": {
   "display_name": "Python 3",
   "language": "python",
   "name": "python3"
  },
  "language_info": {
   "codemirror_mode": {
    "name": "ipython",
    "version": 3
   },
   "file_extension": ".py",
   "mimetype": "text/x-python",
   "name": "python",
   "nbconvert_exporter": "python",
   "pygments_lexer": "ipython3",
   "version": "3.7.3"
  }
 },
 "nbformat": 4,
 "nbformat_minor": 2
}
