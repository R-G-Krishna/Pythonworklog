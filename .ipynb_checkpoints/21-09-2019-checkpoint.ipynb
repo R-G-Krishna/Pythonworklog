{
 "cells": [
  {
   "cell_type": "markdown",
   "metadata": {},
   "source": [
    "## Files"
   ]
  },
  {
   "cell_type": "code",
   "execution_count": 54,
   "metadata": {},
   "outputs": [
    {
     "name": "stdout",
     "output_type": "stream",
     "text": [
      "It is pertinent to mention here that it is not easy for all engineers to remember all basic concepts of mechanical engineering because over time, our memory fades away and we can only remember those things which are continuously in use in our daily routine life/ job activities.\n",
      "Here on this mechanical engineering website, I have compiled all the basic concepts of courses taught in mechanical engineering degree.\n",
      "Some important subjects have already been added and more mechanical engineering courses will be added soon.\n",
      "that is not this\n",
      "this is that\n",
      "\n",
      "\n"
     ]
    }
   ],
   "source": [
    "filepath1=\"./files/filescount.txt\"\n",
    "with open(filepath,'w')as f:\n",
    "    f.write(\"It is pertinent to mention here that it is not easy for all engineers to remember all basic concepts of mechanical engineering because over time, our memory fades away and we can only remember those things which are continuously in use in our daily routine life/ job activities.\\n\"\n",
    "    \"Here on this mechanical engineering website, I have compiled all the basic concepts of courses taught in mechanical engineering degree.\\n\"\n",
    "    \"Some important subjects have already been added and more mechanical engineering courses will be added soon.\\n\"\n",
    "    \"that is not this\\n\"\n",
    "    \"this is that\\n\")\n",
    "f=open(filepath,'r')\n",
    "lines=f.read()\n",
    "print(lines)\n",
    "line=f.read()\n",
    "print(line)"
   ]
  },
  {
   "cell_type": "markdown",
   "metadata": {},
   "source": [
    "## Problem"
   ]
  },
  {
   "cell_type": "code",
   "execution_count": 62,
   "metadata": {},
   "outputs": [
    {
     "name": "stdout",
     "output_type": "stream",
     "text": [
      "No of Test cases:1\n",
      "give Time[SH SM EH EM]:1 44 2 15\n",
      "0 14\n",
      "29\n"
     ]
    }
   ],
   "source": [
    "N=int(input(\"No of Test cases:\"))\n",
    "for i in range(0,N):\n",
    "    T=input(\"give Time[SH SM EH EM]:\")\n",
    "    c=T.split()\n",
    "    SH=int(c[0])\n",
    "    SM=int(c[1])\n",
    "    EH=int(c[2])\n",
    "    EM=int(c[3])\n",
    "    a=SH*60\n",
    "    b=abs(EH-SH)\n",
    "    x=b*60\n",
    "    c=a+SM\n",
    "    d=x+EM\n",
    "    e=abs(d-c)\n",
    "    if e>60:\n",
    "        f=e/60\n",
    "        g=e-60\n",
    "        print(f,g)\n",
    "    elif e==60:\n",
    "         print(1,0)\n",
    "    else:\n",
    "        k=e-60\n",
    "        print(0,g)\n",
    "        \n",
    "    print(e)"
   ]
  },
  {
   "cell_type": "code",
   "execution_count": null,
   "metadata": {},
   "outputs": [],
   "source": []
  }
 ],
 "metadata": {
  "kernelspec": {
   "display_name": "Python 3",
   "language": "python",
   "name": "python3"
  },
  "language_info": {
   "codemirror_mode": {
    "name": "ipython",
    "version": 3
   },
   "file_extension": ".py",
   "mimetype": "text/x-python",
   "name": "python",
   "nbconvert_exporter": "python",
   "pygments_lexer": "ipython3",
   "version": "3.7.3"
  }
 },
 "nbformat": 4,
 "nbformat_minor": 2
}
