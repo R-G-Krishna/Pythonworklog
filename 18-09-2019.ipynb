{
 "cells": [
  {
   "cell_type": "markdown",
   "metadata": {},
   "source": [
    "## 7 Segment Display"
   ]
  },
  {
   "cell_type": "code",
   "execution_count": 7,
   "metadata": {},
   "outputs": [
    {
     "name": "stdout",
     "output_type": "stream",
     "text": [
      "enter a num:3234\n",
      "3 => match sticks: 5\n",
      "2 => match sticks: 5\n",
      "3 => match sticks: 5\n",
      "4 => match sticks: 4\n",
      "total: 19\n"
     ]
    }
   ],
   "source": [
    "N=str(input(\"enter a num:\"))\n",
    "d={0:6,1:2,2:5,3:5,4:4,5:5,6:6,7:3,8:7,9:6}\n",
    "c=0\n",
    "for j in N:\n",
    "    for i in range(0,10):\n",
    "        if int(j)==i:\n",
    "            print(j,\"=>\",\"match sticks:\",d[i])\n",
    "            c=c+d[i]\n",
    "print(\"total:\",c)  \n",
    "\n"
   ]
  },
  {
   "cell_type": "code",
   "execution_count": 8,
   "metadata": {},
   "outputs": [
    {
     "data": {
      "text/plain": [
       "['__class__',\n",
       " '__contains__',\n",
       " '__delattr__',\n",
       " '__delitem__',\n",
       " '__dir__',\n",
       " '__doc__',\n",
       " '__eq__',\n",
       " '__format__',\n",
       " '__ge__',\n",
       " '__getattribute__',\n",
       " '__getitem__',\n",
       " '__gt__',\n",
       " '__hash__',\n",
       " '__init__',\n",
       " '__init_subclass__',\n",
       " '__iter__',\n",
       " '__le__',\n",
       " '__len__',\n",
       " '__lt__',\n",
       " '__ne__',\n",
       " '__new__',\n",
       " '__reduce__',\n",
       " '__reduce_ex__',\n",
       " '__repr__',\n",
       " '__setattr__',\n",
       " '__setitem__',\n",
       " '__sizeof__',\n",
       " '__str__',\n",
       " '__subclasshook__',\n",
       " 'clear',\n",
       " 'copy',\n",
       " 'fromkeys',\n",
       " 'get',\n",
       " 'items',\n",
       " 'keys',\n",
       " 'pop',\n",
       " 'popitem',\n",
       " 'setdefault',\n",
       " 'update',\n",
       " 'values']"
      ]
     },
     "execution_count": 8,
     "metadata": {},
     "output_type": "execute_result"
    }
   ],
   "source": [
    "dir(dict)"
   ]
  },
  {
   "cell_type": "code",
   "execution_count": 24,
   "metadata": {},
   "outputs": [
    {
     "name": "stdout",
     "output_type": "stream",
     "text": [
      "enter directions:LLUFGDBER\n",
      "F direction not found\n",
      "G direction not found\n",
      "B direction not found\n",
      "E direction not found\n",
      "[-1, 0]\n"
     ]
    }
   ],
   "source": [
    "S=(input(\"enter directions:\"))\n",
    "P=[0,0]\n",
    "for i in S:\n",
    "    if i=='L':\n",
    "        P[0]-=1\n",
    "    elif i=='R':\n",
    "        P[0]+=1\n",
    "    elif i=='U':\n",
    "        P[1]+=1\n",
    "    elif i=='D':\n",
    "        P[1]-=1\n",
    "    else:\n",
    "        print(i,\"direction not found\")\n",
    "print(P)\n",
    "        "
   ]
  },
  {
   "cell_type": "code",
   "execution_count": 25,
   "metadata": {},
   "outputs": [],
   "source": [
    "filepath=\"./FILES/sample.txt\"\n",
    "with open(filepath,'w') as f :\n",
    "    f.write(\"I am R.GopiKrishna\")"
   ]
  },
  {
   "cell_type": "code",
   "execution_count": null,
   "metadata": {},
   "outputs": [],
   "source": []
  }
 ],
 "metadata": {
  "kernelspec": {
   "display_name": "Python 3",
   "language": "python",
   "name": "python3"
  },
  "language_info": {
   "codemirror_mode": {
    "name": "ipython",
    "version": 3
   },
   "file_extension": ".py",
   "mimetype": "text/x-python",
   "name": "python",
   "nbconvert_exporter": "python",
   "pygments_lexer": "ipython3",
   "version": "3.7.3"
  }
 },
 "nbformat": 4,
 "nbformat_minor": 2
}
